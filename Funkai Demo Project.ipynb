{
  "nbformat": 4,
  "nbformat_minor": 0,
  "metadata": {
    "colab": {
      "provenance": [],
      "machine_shape": "hm",
      "gpuType": "A100",
      "authorship_tag": "ABX9TyMrRXYfh2rZdOpz6J5PTdu+",
      "include_colab_link": true
    },
    "kernelspec": {
      "name": "python3",
      "display_name": "Python 3"
    },
    "language_info": {
      "name": "python"
    },
    "accelerator": "GPU"
  },
  "cells": [
    {
      "cell_type": "markdown",
      "metadata": {
        "id": "view-in-github",
        "colab_type": "text"
      },
      "source": [
        "<a href=\"https://colab.research.google.com/github/ciaraadkins/funkai/blob/main/Funkai%20Demo%20Project.ipynb\" target=\"_parent\"><img src=\"https://colab.research.google.com/assets/colab-badge.svg\" alt=\"Open In Colab\"/></a>"
      ]
    },
    {
      "cell_type": "markdown",
      "source": [
        "# **Getting Started with Funkai**\n",
        "Welcome to the Funkai demo notebook! Funkai is a Python library that encapsulates linguistic operations and leverages OpenAI to execute them based on user inputs. Let's explore its capabilities and see it in action!\n",
        "\n",
        "Repo: https://github.com/ciaraadkins/funkai\n",
        "\n",
        "Author: Ciara Adkins (adkins.ciara@gmail.com, https://www.linkedin.com/in/ciara-adkins/)"
      ],
      "metadata": {
        "id": "PrQqs6Mmgkby"
      }
    },
    {
      "cell_type": "markdown",
      "source": [
        "# **Install and Import Libraries**"
      ],
      "metadata": {
        "id": "IGLspHT4LtlC"
      }
    },
    {
      "cell_type": "code",
      "execution_count": null,
      "metadata": {
        "id": "1vpJOOz6aONQ"
      },
      "outputs": [],
      "source": [
        "!pip install openai\n",
        "# !pip install llmonitor # i recommend this tool if you want to monitor your llm usage; more info - https://llmonitor.com/"
      ]
    },
    {
      "cell_type": "code",
      "source": [
        "import openai\n",
        "import os"
      ],
      "metadata": {
        "id": "nwSczduhaSVW"
      },
      "execution_count": 2,
      "outputs": []
    },
    {
      "cell_type": "code",
      "source": [
        "!git clone https://github.com/ciaraadkins/funkai.git"
      ],
      "metadata": {
        "id": "mWPyPqvjXdQ6",
        "colab": {
          "base_uri": "https://localhost:8080/"
        },
        "outputId": "8a849e5a-41e5-498f-a682-a89bafe57f5f"
      },
      "execution_count": 3,
      "outputs": [
        {
          "output_type": "stream",
          "name": "stdout",
          "text": [
            "Cloning into 'funkai'...\n",
            "remote: Enumerating objects: 239, done.\u001b[K\n",
            "remote: Counting objects: 100% (34/34), done.\u001b[K\n",
            "remote: Compressing objects: 100% (27/27), done.\u001b[K\n",
            "remote: Total 239 (delta 13), reused 22 (delta 7), pack-reused 205\u001b[K\n",
            "Receiving objects: 100% (239/239), 41.00 KiB | 13.67 MiB/s, done.\n",
            "Resolving deltas: 100% (109/109), done.\n"
          ]
        }
      ]
    },
    {
      "cell_type": "code",
      "source": [
        "!pip install ./funkai/"
      ],
      "metadata": {
        "id": "3vTxIaCEXa57"
      },
      "execution_count": null,
      "outputs": []
    },
    {
      "cell_type": "code",
      "source": [
        "from funkai import Funk,FunkManager"
      ],
      "metadata": {
        "id": "qngYIMJ08gT7"
      },
      "execution_count": 5,
      "outputs": []
    },
    {
      "cell_type": "markdown",
      "source": [
        "# **Set API Keys (*& Optionally Add LLMonitor*)**"
      ],
      "metadata": {
        "id": "mw6YLv1REb44"
      }
    },
    {
      "cell_type": "code",
      "source": [
        "openai.api_key = \"\"\n",
        "# os.environ[\"LLMONITOR_APP_ID\"] = \"\""
      ],
      "metadata": {
        "id": "ojZHVWLE9sPH"
      },
      "execution_count": 20,
      "outputs": []
    },
    {
      "cell_type": "code",
      "source": [
        "# from llmonitor import monitor\n",
        "# monitor(openai)"
      ],
      "metadata": {
        "id": "JI8-6GZdgPfo"
      },
      "execution_count": 19,
      "outputs": []
    },
    {
      "cell_type": "markdown",
      "source": [
        "# **Demo**"
      ],
      "metadata": {
        "id": "m1BfiAGBN43e"
      }
    },
    {
      "cell_type": "markdown",
      "source": [
        "# .add"
      ],
      "metadata": {
        "id": "o3BvgGXaEsX0"
      }
    },
    {
      "cell_type": "code",
      "source": [
        "my_funks = FunkManager()"
      ],
      "metadata": {
        "id": "bFVOhfnuN4ky"
      },
      "execution_count": 8,
      "outputs": []
    },
    {
      "cell_type": "code",
      "source": [
        "my_funks.add(\n",
        "    name=\"sentiment\",\n",
        "    operation=\"determine if the text has positive, negative, or neutral sentiment\"\n",
        ")"
      ],
      "metadata": {
        "id": "tV56R_1g8uj3"
      },
      "execution_count": 9,
      "outputs": []
    },
    {
      "cell_type": "code",
      "source": [
        "my_funks.add(\n",
        "    name=\"rhyme5\",\n",
        "    operation=\"given a word, generate 5 words that rhyme with it.\",\n",
        "    input_dtype=str,\n",
        "    output_dtype=list\n",
        ")"
      ],
      "metadata": {
        "id": "PXTXRsiVQQFH"
      },
      "execution_count": 10,
      "outputs": []
    },
    {
      "cell_type": "code",
      "source": [
        "my_funks.add(\n",
        "    name=\"find fruit\",\n",
        "    operation=\"given the input list of miscellaneous items, return a list of only the fruit\",\n",
        "    input_dtype=list,\n",
        "    output_dtype=list\n",
        ")"
      ],
      "metadata": {
        "id": "IfdJdLklMhJm"
      },
      "execution_count": 11,
      "outputs": []
    },
    {
      "cell_type": "code",
      "source": [
        "my_funks.add(\n",
        "    name=\"get transport and wheels\",\n",
        "    operation=\"return only the modes of transportation and the number of wheels that mode of transportation has\",\n",
        "    input_dtype=list,\n",
        "    output_dtype=dict\n",
        ")"
      ],
      "metadata": {
        "id": "Bhb5EPSMFf96"
      },
      "execution_count": 12,
      "outputs": []
    },
    {
      "cell_type": "code",
      "source": [
        "my_funks.add(\n",
        "    name=\"get element fancy\",\n",
        "    operation=\"return the element abbreviations, the properties from the periodic table of elements, and a common use of the element\",\n",
        "    input_dtype=str,\n",
        "    output_dtype=dict\n",
        ")"
      ],
      "metadata": {
        "id": "iRFtsRZMdhl-"
      },
      "execution_count": 13,
      "outputs": []
    },
    {
      "cell_type": "markdown",
      "source": [
        "# .run"
      ],
      "metadata": {
        "id": "9fcUwdMsFHIT"
      }
    },
    {
      "cell_type": "code",
      "source": [
        "print(my_funks.run(\"rhyme5\",\"cat\"))"
      ],
      "metadata": {
        "colab": {
          "base_uri": "https://localhost:8080/"
        },
        "id": "KVEyb-pYQa7Y",
        "outputId": "56022acb-ba0b-4db1-d17e-4da89de12a54"
      },
      "execution_count": 14,
      "outputs": [
        {
          "output_type": "stream",
          "name": "stdout",
          "text": [
            "['bat', 'hat', 'mat', 'rat', 'sat']\n"
          ]
        }
      ]
    },
    {
      "cell_type": "code",
      "source": [
        "items = [\"apple\", \"bike\", \"carrot\", \"date\", \"elephant\", \"fig\", \"grape\", \"helicopter\", \"ice cream\", \"jackfruit\", \"kite\", \"lemon\", \"mango\", \"notebook\",\"strawberry\", \"television\", \"umbrella\", \"van\", \"watermelon\", \"xylophone\", \"yellow\", \"zebra\"]"
      ],
      "metadata": {
        "id": "70QULGOjFYfz"
      },
      "execution_count": 15,
      "outputs": []
    },
    {
      "cell_type": "code",
      "source": [
        "result = my_funks.run(\"find fruit\",items) # try swapping the funk to \"get transport and wheels\" to see how the output changes\n",
        "print(result)"
      ],
      "metadata": {
        "id": "NujvASK9MnJ8",
        "colab": {
          "base_uri": "https://localhost:8080/"
        },
        "outputId": "658748bc-9a30-4ca9-a648-38d2ae3144e0"
      },
      "execution_count": 16,
      "outputs": [
        {
          "output_type": "stream",
          "name": "stdout",
          "text": [
            "['apple', 'date', 'fig', 'grape', 'jackfruit', 'lemon', 'mango', 'strawberry', 'watermelon']\n"
          ]
        }
      ]
    },
    {
      "cell_type": "code",
      "source": [
        "elem_props = my_funks.run(\"get element fancy\",\"radon\")\n",
        "print(elem_props)"
      ],
      "metadata": {
        "colab": {
          "base_uri": "https://localhost:8080/"
        },
        "id": "I9c1bjy5dF6s",
        "outputId": "55d8c5b9-bdbe-4f8e-8319-8544bd2e460f"
      },
      "execution_count": 17,
      "outputs": [
        {
          "output_type": "stream",
          "name": "stdout",
          "text": [
            "{'abbreviation': 'Rn', 'properties': {'atomic_number': 86, 'atomic_mass': 222, 'symbol': 'Rn', 'name': 'Radon', 'group': 18, 'period': 6, 'block': 'p', 'category': 'noble gas'}, 'common_use': 'used in radiation therapy'}\n"
          ]
        }
      ]
    }
  ]
}